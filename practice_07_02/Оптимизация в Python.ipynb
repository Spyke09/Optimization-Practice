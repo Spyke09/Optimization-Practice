{
 "cells": [
  {
   "cell_type": "markdown",
   "metadata": {},
   "source": [
    "**scipy.optimize**"
   ]
  },
  {
   "cell_type": "markdown",
   "metadata": {},
   "source": [
    "[Документация функции scipy.otimize.minimize](https://docs.scipy.org/doc/scipy/reference/generated/scipy.optimize.minimize.html)"
   ]
  },
  {
   "cell_type": "code",
   "execution_count": 1,
   "metadata": {},
   "outputs": [],
   "source": [
    "from scipy.optimize import minimize, Bounds, LinearConstraint, NonlinearConstraint\n",
    "import numpy as np"
   ]
  },
  {
   "cell_type": "markdown",
   "metadata": {},
   "source": [
    "Безусловный локальный экстремум функции одной переменной:"
   ]
  },
  {
   "cell_type": "code",
   "execution_count": 2,
   "metadata": {},
   "outputs": [
    {
     "data": {
      "text/plain": [
       "  message: Optimization terminated successfully.\n",
       "  success: True\n",
       "   status: 0\n",
       "      fun: -3.5139050389347886\n",
       "        x: [-1.301e+00]\n",
       "      nit: 6\n",
       "      jac: [-2.980e-08]\n",
       " hess_inv: [[ 6.988e-02]]\n",
       "     nfev: 22\n",
       "     njev: 11"
      ]
     },
     "execution_count": 2,
     "metadata": {},
     "output_type": "execute_result"
    }
   ],
   "source": [
    "minimize(lambda x: x**4-3*x**2+x, x0 = 0)"
   ]
  },
  {
   "cell_type": "code",
   "execution_count": 3,
   "metadata": {},
   "outputs": [
    {
     "data": {
      "text/plain": [
       "  message: Optimization terminated successfully.\n",
       "  success: True\n",
       "   status: 0\n",
       "      fun: -1.0702301817735662\n",
       "        x: [ 1.131e+00]\n",
       "      nit: 6\n",
       "      jac: [ 7.033e-06]\n",
       " hess_inv: [[ 1.076e-01]]\n",
       "     nfev: 14\n",
       "     njev: 7"
      ]
     },
     "execution_count": 3,
     "metadata": {},
     "output_type": "execute_result"
    }
   ],
   "source": [
    "minimize(lambda x: x**4-3*x**2+x, x0 = 2)"
   ]
  },
  {
   "cell_type": "markdown",
   "metadata": {},
   "source": [
    "Безусловный локальный экстремум функции нескольких переменных:"
   ]
  },
  {
   "cell_type": "code",
   "execution_count": 4,
   "metadata": {},
   "outputs": [
    {
     "data": {
      "text/plain": [
       "  message: Optimization terminated successfully.\n",
       "  success: True\n",
       "   status: 0\n",
       "      fun: 1.0000000000000004\n",
       "        x: [-1.508e+00 -1.989e+00]\n",
       "      nit: 7\n",
       "      jac: [-1.490e-08 -2.980e-08]\n",
       " hess_inv: [[ 6.767e-02 -1.368e-02]\n",
       "            [-1.368e-02  1.383e-01]]\n",
       "     nfev: 30\n",
       "     njev: 10"
      ]
     },
     "execution_count": 4,
     "metadata": {},
     "output_type": "execute_result"
    }
   ],
   "source": [
    "fun = lambda x: (x[0]*x[1]-3)**2 + 1\n",
    "minimize(fun, x0 = [-1,0])"
   ]
  },
  {
   "cell_type": "markdown",
   "metadata": {},
   "source": [
    "Можно задать границы для переменных одним из двух способов:\n",
    "- последовательностью границ (min, max);\n",
    "- с помощью класса Bounds."
   ]
  },
  {
   "cell_type": "code",
   "execution_count": 5,
   "metadata": {},
   "outputs": [
    {
     "data": {
      "text/plain": [
       "  message: CONVERGENCE: NORM_OF_PROJECTED_GRADIENT_<=_PGTOL\n",
       "  success: True\n",
       "   status: 0\n",
       "      fun: 1.0000000000000002\n",
       "        x: [ 1.732e+00  1.732e+00]\n",
       "      nit: 4\n",
       "      jac: [-2.220e-08 -2.220e-08]\n",
       "     nfev: 18\n",
       "     njev: 6\n",
       " hess_inv: <2x2 LbfgsInvHessProduct with dtype=float64>"
      ]
     },
     "execution_count": 5,
     "metadata": {},
     "output_type": "execute_result"
    }
   ],
   "source": [
    "minimize(fun, x0 = [0,0], bounds = ((1,None), (1,None)))"
   ]
  },
  {
   "cell_type": "code",
   "execution_count": 6,
   "metadata": {},
   "outputs": [
    {
     "data": {
      "text/plain": [
       "  message: CONVERGENCE: NORM_OF_PROJECTED_GRADIENT_<=_PGTOL\n",
       "  success: True\n",
       "   status: 0\n",
       "      fun: 1.0000000000000002\n",
       "        x: [ 1.732e+00  1.732e+00]\n",
       "      nit: 4\n",
       "      jac: [-2.220e-08 -2.220e-08]\n",
       "     nfev: 18\n",
       "     njev: 6\n",
       " hess_inv: <2x2 LbfgsInvHessProduct with dtype=float64>"
      ]
     },
     "execution_count": 6,
     "metadata": {},
     "output_type": "execute_result"
    }
   ],
   "source": [
    "minimize(fun, x0 = [0,0], bounds = Bounds(lb=1, ub=np.inf))"
   ]
  },
  {
   "cell_type": "markdown",
   "metadata": {},
   "source": [
    "Можно задать линейные или нелинейные ограничения:"
   ]
  },
  {
   "cell_type": "code",
   "execution_count": 7,
   "metadata": {},
   "outputs": [
    {
     "data": {
      "text/plain": [
       " message: Optimization terminated successfully\n",
       " success: True\n",
       "  status: 0\n",
       "     fun: 1.0000000008376349\n",
       "       x: [ 2.121e+00  1.414e+00]\n",
       "     nit: 5\n",
       "     jac: [-8.184e-05 -1.227e-04]\n",
       "    nfev: 15\n",
       "    njev: 5"
      ]
     },
     "execution_count": 7,
     "metadata": {},
     "output_type": "execute_result"
    }
   ],
   "source": [
    "minimize(fun, x0 = [2,2], \n",
    "         constraints = [\n",
    "             LinearConstraint([1,1], lb=3, ub=np.inf),\n",
    "             NonlinearConstraint(lambda x: x[1]**2, lb=-np.inf, ub=2)\n",
    "         ])"
   ]
  },
  {
   "cell_type": "markdown",
   "metadata": {},
   "source": [
    "Если известна функция для вычисления градиента, можно ее задать явно:"
   ]
  },
  {
   "cell_type": "code",
   "execution_count": 8,
   "metadata": {},
   "outputs": [
    {
     "data": {
      "text/plain": [
       "  message: Optimization terminated successfully.\n",
       "  success: True\n",
       "   status: 0\n",
       "      fun: 1.0000000000032532\n",
       "        x: [ 1.732e+00  1.732e+00]\n",
       "      nit: 3\n",
       "      jac: [ 6.248e-06  6.248e-06]\n",
       " hess_inv: [[ 5.417e-01 -4.583e-01]\n",
       "            [-4.583e-01  5.417e-01]]\n",
       "     nfev: 5\n",
       "     njev: 5"
      ]
     },
     "execution_count": 8,
     "metadata": {},
     "output_type": "execute_result"
    }
   ],
   "source": [
    "minimize(fun, x0 = [2,2],\n",
    "         jac = lambda x: [2*(x[0]*x[1]-3)*x[1], 2*(x[0]*x[1]-3)*x[0]])"
   ]
  },
  {
   "cell_type": "markdown",
   "metadata": {},
   "source": [
    "[Документация функции scipy.otimize.linprog](https://docs.scipy.org/doc/scipy/reference/generated/scipy.optimize.linprog.html)"
   ]
  },
  {
   "cell_type": "code",
   "execution_count": 3,
   "metadata": {},
   "outputs": [],
   "source": [
    "from scipy.optimize import linprog\n",
    "import numpy as np"
   ]
  },
  {
   "cell_type": "markdown",
   "metadata": {},
   "source": [
    "**Задача 1**  \n",
    "Кондитерская фабрика для производства трех видов карамели A, B и C использует четыре вида основного сырья: сахарный песок, патоку, фруктовое пюре и орехи. Нормы расхода сырья каждого вида на производство 1 т карамели данного вида приведены в таблице. В ней же указано общее количество сырья каждого вида, которое может быть использовано фабрикой, а также приведена прибыль от реализации 1 т карамели данного вида. Требуется составить план производства, максимизирующий прибыль от продажи карамели."
   ]
  },
  {
   "cell_type": "code",
   "execution_count": 3,
   "metadata": {},
   "outputs": [],
   "source": [
    "c = np.array([108, 112, 126])\n",
    "A = np.array([[0.8, 0.5, 0.6],\n",
    "              [0.4, 0.4, 0.3],\n",
    "              [0, 0.1, 0.1],\n",
    "              [0.1, 0, 0.2]])\n",
    "b = [800, 600, 120, 300]"
   ]
  },
  {
   "cell_type": "markdown",
   "metadata": {},
   "source": [
    "$c^T x \\rightarrow \\min$\n",
    "\n",
    "$A_{ub} x \\leq b_{ub}$\n",
    "\n",
    "$A_{eq} x = b_{eq}$\n",
    "\n",
    "$l \\leq x \\leq u$"
   ]
  },
  {
   "cell_type": "code",
   "execution_count": 5,
   "metadata": {},
   "outputs": [
    {
     "name": "stderr",
     "output_type": "stream",
     "text": [
      "/run/user/1000/app/com.jetbrains.PyCharm-Community/ipykernel_257/656228183.py:1: DeprecationWarning: `method='revised simplex'` is deprecated and will be removed in SciPy 1.11.0. Please use one of the HiGHS solvers (e.g. `method='highs'`) in new code.\n",
      "  res = linprog(-c, A_ub=A, b_ub=b, bounds=(0, None), method='revised simplex')\n",
      "/run/user/1000/app/com.jetbrains.PyCharm-Community/ipykernel_257/656228183.py:2: DeprecationWarning: `method='revised simplex'` is deprecated and will be removed in SciPy 1.11.0. Please use one of the HiGHS solvers (e.g. `method='highs'`) in new code.\n",
      "  res1 = linprog(-c, A_ub=A, b_ub=b, method='revised simplex')\n"
     ]
    },
    {
     "data": {
      "text/plain": [
       "( message: Optimization terminated successfully.\n",
       "  success: True\n",
       "   status: 0\n",
       "      fun: -162000.0\n",
       "        x: [ 1.000e+02  0.000e+00  1.200e+03]\n",
       "      nit: 2,\n",
       "  message: Optimization terminated successfully.\n",
       "  success: True\n",
       "   status: 0\n",
       "      fun: -162000.0\n",
       "        x: [ 1.000e+02  0.000e+00  1.200e+03]\n",
       "      nit: 2)"
      ]
     },
     "execution_count": 5,
     "metadata": {},
     "output_type": "execute_result"
    }
   ],
   "source": [
    "res = linprog(-c, A_ub=A, b_ub=b, bounds=(0, None), method='revised simplex')\n",
    "res1 = linprog(-c, A_ub=A, b_ub=b, method='revised simplex')\n",
    "res, res1"
   ]
  },
  {
   "cell_type": "markdown",
   "metadata": {},
   "source": [
    "**PuLP**"
   ]
  },
  {
   "cell_type": "code",
   "execution_count": 7,
   "metadata": {},
   "outputs": [
    {
     "name": "stdout",
     "output_type": "stream",
     "text": [
      "Collecting pulp\n",
      "  Downloading PuLP-2.7.0-py3-none-any.whl (14.3 MB)\n",
      "\u001b[2K     \u001b[90m━━━━━━━━━━━━━━━━━━━━━━━━━━━━━━━━━━━━━━━━\u001b[0m \u001b[32m14.3/14.3 MB\u001b[0m \u001b[31m2.0 MB/s\u001b[0m eta \u001b[36m0:00:00\u001b[0m00:01\u001b[0m00:01\u001b[0mm\n",
      "\u001b[?25hInstalling collected packages: pulp\n",
      "Successfully installed pulp-2.7.0\n",
      "Note: you may need to restart the kernel to use updated packages.\n"
     ]
    }
   ],
   "source": [
    "%pip install pulp"
   ]
  },
  {
   "cell_type": "code",
   "execution_count": 1,
   "metadata": {},
   "outputs": [],
   "source": [
    "import pulp"
   ]
  },
  {
   "cell_type": "markdown",
   "metadata": {},
   "source": [
    "[Документация](https://coin-or.github.io/pulp/)"
   ]
  },
  {
   "cell_type": "markdown",
   "metadata": {},
   "source": [
    "**Задача 2**  \n",
    "Ткацкая фабрика располагает станками четырех типов. Количество станков каждого типа указано в таблице. В соответствии с планом должно выпускаться не менее указанного объема тканей каждого из трех типов. Также в таблице указана производительность станков для каждого типа ткани (в тыс. м/месяц) и стоимость готовой продукции. Необходимо составить план производства, максимизирующий прибыль."
   ]
  },
  {
   "cell_type": "code",
   "execution_count": 6,
   "metadata": {},
   "outputs": [],
   "source": [
    "k = 4; l = 3;\n",
    "c = [40, 30, 50];\n",
    "m = np.array([[25, 16, 8],\n",
    "              [22, 10, 10],\n",
    "              [0, 19, 6],\n",
    "              [28, 12, 9]]);\n",
    "b = [12, 8, 5, 6];\n",
    "p = [200, 100, 150];"
   ]
  },
  {
   "cell_type": "code",
   "execution_count": 7,
   "metadata": {},
   "outputs": [],
   "source": [
    "model = pulp.LpProblem(\"Equipment\", pulp.LpMaximize)"
   ]
  },
  {
   "cell_type": "code",
   "execution_count": 8,
   "metadata": {},
   "outputs": [],
   "source": [
    "# переменные\n",
    "varsX = pulp.LpVariable.dicts(\"x\", [(i,j) for i in range(k) for j in range(l)], \n",
    "                             lowBound=0, cat=pulp.LpInteger)"
   ]
  },
  {
   "cell_type": "code",
   "execution_count": 15,
   "metadata": {},
   "outputs": [],
   "source": [
    "# целевая функция\n",
    "model += pulp.lpSum([c[j]*m[i,j]*varsX[(i,j)] for i in range(k) for j in range(l)])"
   ]
  },
  {
   "cell_type": "code",
   "execution_count": 10,
   "metadata": {},
   "outputs": [],
   "source": [
    "# ограничения\n",
    "for i in range(k):\n",
    "    model += (pulp.lpSum([varsX[(i,j)] for j in range(l)]) <= b[i])\n",
    "for j in range(l):\n",
    "    model += (pulp.lpSum([m[i,j]*varsX[(i,j)] for i in range(k)]) >= p[j])"
   ]
  },
  {
   "cell_type": "code",
   "execution_count": 16,
   "metadata": {
    "scrolled": true
   },
   "outputs": [
    {
     "data": {
      "text/plain": [
       "Equipment:\n",
       "MAXIMIZE\n",
       "1000*x_(0,_0) + 480*x_(0,_1) + 400*x_(0,_2) + 880*x_(1,_0) + 300*x_(1,_1) + 500*x_(1,_2) + 570*x_(2,_1) + 300*x_(2,_2) + 1120*x_(3,_0) + 360*x_(3,_1) + 450*x_(3,_2) + 0\n",
       "SUBJECT TO\n",
       "_C1: x_(0,_0) + x_(0,_1) + x_(0,_2) <= 12\n",
       "\n",
       "_C2: x_(1,_0) + x_(1,_1) + x_(1,_2) <= 8\n",
       "\n",
       "_C3: x_(2,_0) + x_(2,_1) + x_(2,_2) <= 5\n",
       "\n",
       "_C4: x_(3,_0) + x_(3,_1) + x_(3,_2) <= 6\n",
       "\n",
       "_C5: 25 x_(0,_0) + 22 x_(1,_0) + 28 x_(3,_0) >= 200\n",
       "\n",
       "_C6: 16 x_(0,_1) + 10 x_(1,_1) + 19 x_(2,_1) + 12 x_(3,_1) >= 100\n",
       "\n",
       "_C7: 8 x_(0,_2) + 10 x_(1,_2) + 6 x_(2,_2) + 9 x_(3,_2) >= 150\n",
       "\n",
       "VARIABLES\n",
       "0 <= x_(0,_0) Integer\n",
       "0 <= x_(0,_1) Integer\n",
       "0 <= x_(0,_2) Integer\n",
       "0 <= x_(1,_0) Integer\n",
       "0 <= x_(1,_1) Integer\n",
       "0 <= x_(1,_2) Integer\n",
       "0 <= x_(2,_0) Integer\n",
       "0 <= x_(2,_1) Integer\n",
       "0 <= x_(2,_2) Integer\n",
       "0 <= x_(3,_0) Integer\n",
       "0 <= x_(3,_1) Integer\n",
       "0 <= x_(3,_2) Integer"
      ]
     },
     "execution_count": 16,
     "metadata": {},
     "output_type": "execute_result"
    }
   ],
   "source": [
    "model"
   ]
  },
  {
   "cell_type": "code",
   "execution_count": 17,
   "metadata": {},
   "outputs": [
    {
     "data": {
      "text/plain": [
       "[x_(0,_0),\n",
       " x_(0,_1),\n",
       " x_(0,_2),\n",
       " x_(1,_0),\n",
       " x_(1,_1),\n",
       " x_(1,_2),\n",
       " x_(2,_0),\n",
       " x_(2,_1),\n",
       " x_(2,_2),\n",
       " x_(3,_0),\n",
       " x_(3,_1),\n",
       " x_(3,_2)]"
      ]
     },
     "execution_count": 17,
     "metadata": {},
     "output_type": "execute_result"
    }
   ],
   "source": [
    "model.variables()"
   ]
  },
  {
   "cell_type": "code",
   "execution_count": null,
   "metadata": {},
   "outputs": [],
   "source": [
    "model.constraints"
   ]
  },
  {
   "cell_type": "code",
   "execution_count": 19,
   "metadata": {},
   "outputs": [
    {
     "name": "stdout",
     "output_type": "stream",
     "text": [
      "Welcome to the CBC MILP Solver \n",
      "Version: 2.10.3 \n",
      "Build Date: Dec 15 2019 \n",
      "\n",
      "command line - /home/alexander/.var/app/com.jetbrains.PyCharm-Community/data/virtualenvs/Optimization6sem-AxX0FPM6/lib/python3.10/site-packages/pulp/solverdir/cbc/linux/64/cbc /run/user/1000/app/com.jetbrains.PyCharm-Community/3033349a497a4f32b8720d5cbfffe3e1-pulp.mps max timeMode elapsed branch printingOptions all solution /run/user/1000/app/com.jetbrains.PyCharm-Community/3033349a497a4f32b8720d5cbfffe3e1-pulp.sol (default strategy 1)\n",
      "At line 2 NAME          MODEL\n",
      "At line 3 ROWS\n",
      "At line 12 COLUMNS\n",
      "At line 71 RHS\n",
      "At line 79 BOUNDS\n",
      "At line 92 ENDATA\n",
      "Problem MODEL has 7 rows, 12 columns and 23 elements\n",
      "Coin0008I MODEL read with 0 errors\n",
      "Option for timeMode changed from cpu to elapsed\n",
      "Continuous objective value is 20187.5 - 0.00 seconds\n",
      "Cgl0004I processed model has 7 rows, 11 columns (11 integer (0 of which binary)) and 22 elements\n",
      "Cutoff increment increased from 1e-05 to 9.9999\n",
      "Cbc0012I Integer solution of -19270 found by DiveCoefficient after 0 iterations and 0 nodes (0.00 seconds)\n",
      "Cbc0038I Full problem 7 rows 11 columns, reduced to 5 rows 6 columns\n",
      "Cbc0012I Integer solution of -19830 found by DiveCoefficient after 1 iterations and 0 nodes (0.01 seconds)\n",
      "Cbc0031I 1 added rows had average density of 4\n",
      "Cbc0013I At root node, 1 cuts changed objective from -20187.5 to -19830 in 3 passes\n",
      "Cbc0014I Cut generator 0 (Probing) - 0 row cuts average 0.0 elements, 4 column cuts (4 active)  in 0.000 seconds - new frequency is 1\n",
      "Cbc0014I Cut generator 1 (Gomory) - 2 row cuts average 6.0 elements, 0 column cuts (0 active)  in 0.000 seconds - new frequency is 1\n",
      "Cbc0014I Cut generator 2 (Knapsack) - 0 row cuts average 0.0 elements, 0 column cuts (0 active)  in 0.000 seconds - new frequency is -100\n",
      "Cbc0014I Cut generator 3 (Clique) - 0 row cuts average 0.0 elements, 0 column cuts (0 active)  in 0.000 seconds - new frequency is -100\n",
      "Cbc0014I Cut generator 4 (MixedIntegerRounding2) - 1 row cuts average 4.0 elements, 0 column cuts (0 active)  in 0.000 seconds - new frequency is 1\n",
      "Cbc0014I Cut generator 5 (FlowCover) - 0 row cuts average 0.0 elements, 0 column cuts (0 active)  in 0.000 seconds - new frequency is -100\n",
      "Cbc0014I Cut generator 6 (TwoMirCuts) - 3 row cuts average 6.7 elements, 0 column cuts (0 active)  in 0.000 seconds - new frequency is 1\n",
      "Cbc0001I Search completed - best objective -19830, took 1 iterations and 0 nodes (0.01 seconds)\n",
      "Cbc0035I Maximum depth 0, 0 variables fixed on reduced cost\n",
      "Cuts at root node changed objective from -20187.5 to -19830\n",
      "Probing was tried 3 times and created 4 cuts of which 0 were active after adding rounds of cuts (0.000 seconds)\n",
      "Gomory was tried 3 times and created 2 cuts of which 0 were active after adding rounds of cuts (0.000 seconds)\n",
      "Knapsack was tried 3 times and created 0 cuts of which 0 were active after adding rounds of cuts (0.000 seconds)\n",
      "Clique was tried 3 times and created 0 cuts of which 0 were active after adding rounds of cuts (0.000 seconds)\n",
      "MixedIntegerRounding2 was tried 3 times and created 1 cuts of which 0 were active after adding rounds of cuts (0.000 seconds)\n",
      "FlowCover was tried 3 times and created 0 cuts of which 0 were active after adding rounds of cuts (0.000 seconds)\n",
      "TwoMirCuts was tried 3 times and created 3 cuts of which 0 were active after adding rounds of cuts (0.000 seconds)\n",
      "ZeroHalf was tried 1 times and created 0 cuts of which 0 were active after adding rounds of cuts (0.000 seconds)\n",
      "\n",
      "Result - Optimal solution found\n",
      "\n",
      "Objective value:                19830.00000000\n",
      "Enumerated nodes:               0\n",
      "Total iterations:               1\n",
      "Time (CPU seconds):             0.01\n",
      "Time (Wallclock seconds):       0.01\n",
      "\n",
      "Option for printingOptions changed from normal to all\n",
      "Total time (CPU seconds):       0.01   (Wallclock seconds):       0.01\n",
      "\n"
     ]
    },
    {
     "data": {
      "text/plain": [
       "1"
      ]
     },
     "execution_count": 19,
     "metadata": {},
     "output_type": "execute_result"
    }
   ],
   "source": [
    "# запуск процесса решения\n",
    "model.solve()"
   ]
  },
  {
   "cell_type": "code",
   "execution_count": 22,
   "metadata": {},
   "outputs": [
    {
     "name": "stdout",
     "output_type": "stream",
     "text": [
      "[9, 1, 2]\n",
      "[0, 0, 8]\n",
      "[0, 5, 0]\n",
      "[0, 0, 6]\n"
     ]
    }
   ],
   "source": [
    "# вывод результата\n",
    "for i in range(k):\n",
    "    print([int(varsX[(i,j)].value()) for j in range(l)])"
   ]
  },
  {
   "cell_type": "code",
   "execution_count": 24,
   "metadata": {},
   "outputs": [
    {
     "data": {
      "text/plain": [
       "[x_(0,_0),\n",
       " x_(0,_1),\n",
       " x_(0,_2),\n",
       " x_(1,_0),\n",
       " x_(1,_1),\n",
       " x_(1,_2),\n",
       " x_(2,_0),\n",
       " x_(2,_1),\n",
       " x_(2,_2),\n",
       " x_(3,_0),\n",
       " x_(3,_1),\n",
       " x_(3,_2)]"
      ]
     },
     "execution_count": 24,
     "metadata": {},
     "output_type": "execute_result"
    }
   ],
   "source": [
    "model.writeLP(\"1.lp\")"
   ]
  },
  {
   "cell_type": "code",
   "execution_count": null,
   "metadata": {},
   "outputs": [],
   "source": []
  }
 ],
 "metadata": {
  "kernelspec": {
   "display_name": "Python 3 (ipykernel)",
   "language": "python",
   "name": "python3"
  },
  "language_info": {
   "codemirror_mode": {
    "name": "ipython",
    "version": 3
   },
   "file_extension": ".py",
   "mimetype": "text/x-python",
   "name": "python",
   "nbconvert_exporter": "python",
   "pygments_lexer": "ipython3",
   "version": "3.10.6"
  }
 },
 "nbformat": 4,
 "nbformat_minor": 4
}
